{
 "cells": [
  {
   "cell_type": "markdown",
   "metadata": {},
   "source": [
    "# Workshop 1: NumPy and Pandas Basics\n",
    "\n",
    "Welcome to our first workshop on Data Science fundamentals! Today we'll cover NumPy and Pandas,\n",
    "two essential libraries for data manipulation in Python.\n",
    "\n",
    "NumPy (Numerical Python) is fundamental for:\n",
    "- Scientific computing\n",
    "- Array operations\n",
    "- Mathematical functions\n",
    "- Working with matrices\n",
    "\n",
    "Pandas builds on NumPy and is essential for:\n",
    "- Data analysis\n",
    "- Data cleaning\n",
    "- Working with tabular data\n",
    "- Reading/writing various file formats"
   ]
  },
  {
   "cell_type": "code",
   "execution_count": 4,
   "metadata": {},
   "outputs": [],
   "source": [
    "import numpy as np\n",
    "import pandas as pd"
   ]
  },
  {
   "cell_type": "markdown",
   "metadata": {},
   "source": [
    "# 1. NumPy Fundamentals\n",
    "\n",
    "## 1.1 Creating Arrays\n",
    "\n",
    "Key points to discuss:\n",
    "- NumPy arrays are more efficient than Python lists\n",
    "- Arrays must contain elements of the same type\n",
    "- Arrays can be created in multiple ways:\n",
    "  * From Python lists\n",
    "  * Using NumPy helper functions (zeros, ones, random)\n",
    "  * Using range functions (arange, linspace)\n",
    "\n",
    "Let's demonstrate different ways to create arrays:"
   ]
  },
  {
   "cell_type": "code",
   "execution_count": 2,
   "metadata": {},
   "outputs": [
    {
     "name": "stdout",
     "output_type": "stream",
     "text": [
      "Basic array: [1 2 3 4 5]\n"
     ]
    }
   ],
   "source": [
    "# Creating arrays from lists\n",
    "basic_array = np.array([1, 2, 3, 4, 5])\n",
    "print(\"Basic array:\", basic_array)"
   ]
  },
  {
   "cell_type": "markdown",
   "metadata": {},
   "source": [
    "Now let's look at special arrays. These are frequently used in:\n",
    "- Initializing weights in machine learning\n",
    "- Creating placeholder arrays\n",
    "- Generating random data for testing"
   ]
  },
  {
   "cell_type": "code",
   "execution_count": 3,
   "metadata": {},
   "outputs": [
    {
     "name": "stdout",
     "output_type": "stream",
     "text": [
      "Zeros array: [0. 0. 0. 0. 0.]\n",
      "\n",
      "Ones array:\n",
      "[[1. 1. 1.]\n",
      " [1. 1. 1.]]\n",
      "\n",
      "Random array:\n",
      "[[0.12345678 0.23456789 0.34567890]\n",
      " [0.45678901 0.56789012 0.67890123]\n",
      " [0.78901234 0.89012345 0.90123456]]\n"
     ]
    }
   ],
   "source": [
    "# Creating special arrays\n",
    "zeros = np.zeros(5)\n",
    "ones = np.ones((2, 3))\n",
    "random_array = np.random.rand(3, 3)\n",
    "\n",
    "print(\"\\nZeros array:\", zeros)\n",
    "print(\"\\nOnes array:\\n\", ones)\n",
    "print(\"\\nRandom array:\\n\", random_array)"
   ]
  },
  {
   "cell_type": "markdown",
   "metadata": {},
   "source": [
    "## 1.2 Array Operations\n",
    "\n",
    "Key points to discuss:\n",
    "- Element-wise operations are automatic (broadcasting)\n",
    "- Operations are much faster than Python loops\n",
    "- No need to write explicit loops for basic operations\n",
    "- Perfect for mathematical computations\n",
    "\n",
    "Common operations include:\n",
    "- Basic arithmetic (+, -, *, /)\n",
    "- Power operations (**)\n",
    "- Matrix multiplication (@)"
   ]
  },
  {
   "cell_type": "code",
   "execution_count": 4,
   "metadata": {},
   "outputs": [
    {
     "name": "stdout",
     "output_type": "stream",
     "text": [
      "Array addition: [5 7 9]\n",
      "Array multiplication: [ 4 10 18]\n",
      "Array square: [1 4 9]\n"
     ]
    }
   ],
   "source": [
    "# Mathematical operations\n",
    "array1 = np.array([1, 2, 3])\n",
    "array2 = np.array([4, 5, 6])\n",
    "\n",
    "print(\"Array addition:\", array1 + array2)\n",
    "print(\"Array multiplication:\", array1 * array2)\n",
    "print(\"Array square:\", array1 ** 2)"
   ]
  },
  {
   "cell_type": "markdown",
   "metadata": {},
   "source": [
    "## 1.3 Array Indexing and Slicing\n",
    "\n",
    "Key points to discuss:\n",
    "- Similar to Python list indexing but more powerful\n",
    "- Can handle multiple dimensions easily\n",
    "- Negative indexing works like in Python lists\n",
    "- Slicing follows start:stop:step pattern\n",
    "- 2D arrays use comma-separated indexing [row, column]\n",
    "\n",
    "Important concepts:\n",
    "- Basic indexing\n",
    "- Slicing\n",
    "- Boolean indexing (covered later)"
   ]
  },
  {
   "cell_type": "code",
   "execution_count": 5,
   "metadata": {},
   "outputs": [
    {
     "name": "stdout",
     "output_type": "stream",
     "text": [
      "2D array:\n",
      "[[1 2 3]\n",
      " [4 5 6]\n",
      " [7 8 9]]\n",
      "First row: [1 2 3]\n",
      "Element at position (1,2): 6\n",
      "Sliced array:\n",
      "[[2 3]\n",
      " [5 6]]\n"
     ]
    }
   ],
   "source": [
    "# Create a 2D array\n",
    "matrix = np.array([[1, 2, 3],\n",
    "                   [4, 5, 6],\n",
    "                   [7, 8, 9]])\n",
    "\n",
    "print(\"2D array:\\n\", matrix)\n",
    "print(\"First row:\", matrix[0])\n",
    "print(\"Element at position (1,2):\", matrix[1,2])\n",
    "print(\"Sliced array:\\n\", matrix[0:2, 1:3])"
   ]
  },
  {
   "cell_type": "markdown",
   "metadata": {},
   "source": [
    "# 2. Pandas Fundamentals\n",
    "\n",
    "## 2.1 Creating DataFrames\n",
    "\n",
    "Key points to discuss:\n",
    "- DataFrame is a 2D labeled data structure\n",
    "- Like a spreadsheet or SQL table\n",
    "- Can be created from various data sources:\n",
    "  * Dictionaries\n",
    "  * Lists\n",
    "  * NumPy arrays\n",
    "  * CSV files\n",
    "  * Excel files\n",
    "\n",
    "Common use cases:\n",
    "- Loading data from files\n",
    "- Converting other data structures to DataFrame\n",
    "- Creating sample data for testing"
   ]
  },
  {
   "cell_type": "code",
   "execution_count": 6,
   "metadata": {},
   "outputs": [
    {
     "name": "stdout",
     "output_type": "stream",
     "text": [
      "Basic DataFrame:\n",
      "    Name  Age     City\n",
      "0   John   28  New York\n",
      "1   Emma   24    Paris\n",
      "2   Alex   32   London\n",
      "3  Sarah   27    Tokyo\n"
     ]
    }
   ],
   "source": [
    "# Creating a DataFrame from a dictionary\n",
    "data = {\n",
    "    'Name': ['John', 'Emma', 'Alex', 'Sarah'],\n",
    "    'Age': [28, 24, 32, 27],\n",
    "    'City': ['New York', 'Paris', 'London', 'Tokyo']\n",
    "}\n",
    "\n",
    "df = pd.DataFrame(data)\n",
    "print(\"Basic DataFrame:\\n\", df)"
   ]
  },
  {
   "cell_type": "markdown",
   "metadata": {},
   "source": [
    "## 2.2 Basic DataFrame Operations\n",
    "\n",
    "Key points to discuss:\n",
    "- Columns can be accessed using [] or dot notation\n",
    "- New columns can be added easily\n",
    "- Built-in statistical functions\n",
    "- Column operations are vectorized\n",
    "\n",
    "Common operations:\n",
    "- Accessing data\n",
    "- Adding/removing columns\n",
    "- Basic statistics\n",
    "- Data type conversion"
   ]
  },
  {
   "cell_type": "code",
   "execution_count": null,
   "metadata": {},
   "outputs": [
    {
     "name": "stdout",
     "output_type": "stream",
     "text": [
      "Accessing 'Name' column:\n",
      "0    John\n",
      "1    Emma\n",
      "2    Alex\n",
      "3   Sarah\n",
      "Name: Name, dtype: object\n",
      "\n",
      "DataFrame with new column:\n",
      "    Name  Age     City Country\n",
      "0   John   28  New York     USA\n",
      "1   Emma   24    Paris  France\n",
      "2   Alex   32   London      UK\n",
      "3  Sarah   27    Tokyo   Japan\n",
      "\n",
      "Basic statistics for Age:\n",
      "count     4.000000\n",
      "mean     27.750000\n",
      "std       3.304038\n",
      "min      24.000000\n",
      "25%      25.750000\n",
      "50%      27.500000\n",
      "75%      29.250000\n",
      "max      32.000000\n",
      "Name: Age, dtype: float64\n"
     ]
    }
   ],
   "source": [
    "# Accessing columns and basic operations\n",
    "print(\"Accessing 'Name' column:\\n\", df['Name'])\n",
    "\n",
    "# Adding a new column\n",
    "df['Country'] = ['USA', 'France', 'UK', 'Japan']\n",
    "print(\"\\nDataFrame with new column:\\n\", df)\n",
    "\n",
    "# Basic statistics\n",
    "print(\"\\nBasic statistics for Age:\\n\", df['Age'].describe())"
   ]
  },
  {
   "cell_type": "markdown",
   "metadata": {},
   "source": [
    "## 2.3 Data Selection and Filtering\n",
    "\n",
    "Key points to discuss:\n",
    "- Boolean indexing\n",
    "- Multiple conditions using & (and) and | (or)\n",
    "- Using .loc[] for label-based indexing\n",
    "- Using .iloc[] for integer-based indexing\n",
    "\n",
    "Common use cases:\n",
    "- Filtering data based on conditions\n",
    "- Selecting specific rows/columns\n",
    "- Combining multiple conditions"
   ]
  },
  {
   "cell_type": "code",
   "execution_count": 8,
   "metadata": {},
   "outputs": [
    {
     "name": "stdout",
     "output_type": "stream",
     "text": [
      "People under 30:\n",
      "    Name  Age     City Country\n",
      "0   John   28  New York     USA\n",
      "1   Emma   24    Paris  France\n",
      "3  Sarah   27    Tokyo   Japan\n",
      "\n",
      "People under 30 in Asia:\n",
      "    Name  Age   City Country\n",
      "3  Sarah   27  Tokyo   Japan\n"
     ]
    }
   ],
   "source": [
    "# Filtering data\n",
    "young_people = df[df['Age'] < 30]\n",
    "print(\"People under 30:\\n\", young_people)\n",
    "\n",
    "# Multiple conditions\n",
    "young_in_asia = df[(df['Age'] < 30) & (df['Country'].isin(['Japan']))]\n",
    "print(\"\\nPeople under 30 in Asia:\\n\", young_in_asia)"
   ]
  },
  {
   "cell_type": "markdown",
   "metadata": {},
   "source": [
    "# 3. Practical Exercises\n",
    "\n",
    "Key points to discuss before exercises:\n",
    "- Importance of practice\n",
    "- Real-world applications\n",
    "- Common pitfalls\n",
    "- Best practices\n",
    "\n",
    "Exercise structure:\n",
    "1. Start with simple tasks\n",
    "2. Build up to more complex operations\n",
    "3. Combine multiple concepts\n",
    "4. Relate to real-world scenarios\n",
    "\n",
    "## Exercise 1: NumPy Arrays\n",
    "1. Create a 3x3 matrix with random integers between 1 and 100\n",
    "2. Calculate the mean of each row\n",
    "3. Find the maximum value in the entire matrix\n",
    "\n",
    "## Exercise 2: Pandas DataFrames\n",
    "1. Create a DataFrame with student information (Name, Grade, Subject)\n",
    "2. Calculate the average grade per subject\n",
    "3. Filter students with grades above 85"
   ]
  },
  {
   "cell_type": "code",
   "execution_count": 6,
   "metadata": {},
   "outputs": [
    {
     "name": "stdout",
     "output_type": "stream",
     "text": [
      "\n",
      "Exercise Matrix:\n",
      " [[32 16 88]\n",
      " [32 42 23]\n",
      " [84 93 86]]\n",
      "Row means: 55.111111111111114\n",
      "Maximum value: 93\n"
     ]
    }
   ],
   "source": [
    "# Example solution for Exercise 1\n",
    "exercise_matrix = np.random.randint(1, 100, size=(3, 3))\n",
    "print(\"\\nExercise Matrix:\\n\", exercise_matrix)\n",
    "print(\"Row means:\", exercise_matrix.mean(axis=1))\n",
    "print(\"Maximum value:\", exercise_matrix.max())"
   ]
  },
  {
   "cell_type": "code",
   "execution_count": null,
   "metadata": {},
   "outputs": [],
   "source": [
    "# Example solution for Exercise 2\n",
    "student_data = {\n",
    "    'Name': ['Alice', 'Bob', 'Charlie', 'David'],\n",
    "    'Grade': [88, 92, 85, 78],\n",
    "    'Subject': ['Math', 'Math', 'Physics', 'Math']\n",
    "}\n",
    "\n",
    "student_df = pd.DataFrame(student_data)\n",
    "print(\"\\nAverage grade per subject:\\n\", student_df.groupby('Subject')['Grade'].mean())\n",
    "print(\"\\nStudents with grades above 85:\\n\", student_df[student_df['Grade'] > 85])"
   ]
  },
  {
   "cell_type": "markdown",
   "metadata": {},
   "source": [
    "## Wrap-up Discussion Points:\n",
    "1. Review key concepts covered\n",
    "2. Address common questions\n",
    "3. Preview next workshop on data preprocessing\n",
    "4. Suggest additional resources for practice\n",
    "5. Assign optional homework if applicable"
   ]
  },
  {
   "cell_type": "code",
   "execution_count": null,
   "metadata": {},
   "outputs": [],
   "source": []
  }
 ],
 "metadata": {
  "kernelspec": {
   "display_name": "Python 3 (ipykernel)",
   "language": "python",
   "name": "python3"
  },
  "language_info": {
   "codemirror_mode": {
    "name": "ipython",
    "version": 3
   },
   "file_extension": ".py",
   "mimetype": "text/x-python",
   "name": "python",
   "nbconvert_exporter": "python",
   "pygments_lexer": "ipython3",
   "version": "3.11.5"
  }
 },
 "nbformat": 4,
 "nbformat_minor": 4
}
